{
  "nbformat": 4,
  "nbformat_minor": 0,
  "metadata": {
    "colab": {
      "provenance": []
    },
    "kernelspec": {
      "name": "python3",
      "display_name": "Python 3"
    },
    "language_info": {
      "name": "python"
    }
  },
  "cells": [
    {
      "cell_type": "code",
      "execution_count": 1,
      "metadata": {
        "id": "Z_4I_M9DW-DL"
      },
      "outputs": [],
      "source": [
        "import pandas as pd\n",
        "from sklearn.metrics import confusion_matrix,accuracy_score\n",
        "from sklearn.preprocessing import StandardScaler\n",
        "import matplotlib.pyplot as plt\n",
        "import seaborn as sns\n",
        "import numpy as np"
      ]
    },
    {
      "cell_type": "code",
      "source": [
        "data_train = pd.read_excel('/content/drive/MyDrive/Asssignment4_Data.xlsx',sheet_name='Train')\n",
        "data_test =  pd.read_excel('/content/drive/MyDrive/Asssignment4_Data.xlsx',sheet_name='Test')"
      ],
      "metadata": {
        "id": "0bTOIKCGXJDY"
      },
      "execution_count": 2,
      "outputs": []
    },
    {
      "cell_type": "code",
      "source": [
        "X_train = data_train.drop(['House ID','Construction type'],axis =1)\n",
        "X_test = data_test.drop(['House ID','Construction type'],axis= 1)\n",
        "\n",
        "y_train = data_train['Construction type']\n",
        "y_test = data_test['Construction type']"
      ],
      "metadata": {
        "id": "-ch450ipXJFj"
      },
      "execution_count": 3,
      "outputs": []
    },
    {
      "cell_type": "code",
      "source": [
        "scaler = StandardScaler()\n",
        "X_train = scaler.fit_transform(X_train)\n",
        "X_test = scaler.transform(X_test)"
      ],
      "metadata": {
        "id": "aL2jyfuNXJHx"
      },
      "execution_count": 4,
      "outputs": []
    },
    {
      "cell_type": "code",
      "source": [
        "def most_common(lst):\n",
        "    return max(set(lst), key=lst.count)\n",
        "def euclidean(point, data):\n",
        "    return np.sqrt(np.sum((point - data)**2, axis=1))\n",
        "class KNeighborsClassifier:\n",
        "    def __init__(self, k=5, dist_metric=euclidean):\n",
        "        self.k = k\n",
        "        self.dist_metric = dist_metric\n",
        "    def fit(self, X_train, y_train):\n",
        "        self.X_train = X_train\n",
        "        self.y_train = y_train\n",
        "    def predict(self, X_test):\n",
        "        neighbors = []\n",
        "        for x in X_test:\n",
        "            distances = self.dist_metric(x, self.X_train)\n",
        "            y_sorted = [y for _, y in sorted(zip(distances, self.y_train))]\n",
        "            neighbors.append(y_sorted[:self.k])\n",
        "        return list(map(most_common, neighbors))\n",
        "    def evaluate(self, X_test, y_test):\n",
        "        y_pred = self.predict(X_test)\n",
        "        accuracy = sum(y_pred == y_test) / len(y_test)\n",
        "        return accuracy"
      ],
      "metadata": {
        "id": "H93dyxI9XJJ9"
      },
      "execution_count": 5,
      "outputs": []
    },
    {
      "cell_type": "code",
      "source": [
        "model = KNeighborsClassifier(k=4)\n",
        "model.fit(X_train,y_train)\n",
        "model.predict(X_test)"
      ],
      "metadata": {
        "colab": {
          "base_uri": "https://localhost:8080/"
        },
        "id": "Je6i_1-qfhrX",
        "outputId": "0a5e472d-b4bd-46e3-af9a-e86ae7a19abe"
      },
      "execution_count": 6,
      "outputs": [
        {
          "output_type": "execute_result",
          "data": {
            "text/plain": [
              "['Apartment', 'Apartment', 'House', 'Apartment', 'House']"
            ]
          },
          "metadata": {},
          "execution_count": 6
        }
      ]
    },
    {
      "cell_type": "code",
      "source": [
        "# Test knn model across varying ks\n",
        "accuracies = []\n",
        "ks = range(1, 10)\n",
        "for k in ks:\n",
        "    knn = KNeighborsClassifier(k=k)\n",
        "    knn.fit(X_train, y_train)\n",
        "    accuracy = knn.evaluate(X_test, y_test)\n",
        "    accuracies.append(accuracy)"
      ],
      "metadata": {
        "id": "LnzvNol1XJMa"
      },
      "execution_count": 7,
      "outputs": []
    },
    {
      "cell_type": "code",
      "source": [
        "fig, ax = plt.subplots()\n",
        "ax.plot(ks, accuracies)\n",
        "ax.set(xlabel=\"k\",\n",
        "       ylabel=\"Accuracy\",\n",
        "       title=\"Performance of KNN\")\n",
        "plt.show()"
      ],
      "metadata": {
        "colab": {
          "base_uri": "https://localhost:8080/",
          "height": 295
        },
        "id": "A3Y0blwRgSUb",
        "outputId": "9dc4cf47-ac3e-4fa0-8b76-962397de7a02"
      },
      "execution_count": 8,
      "outputs": [
        {
          "output_type": "display_data",
          "data": {
            "text/plain": [
              "<Figure size 432x288 with 1 Axes>"
            ],
            "image/png": "[encoded data removed]"
          },
          "metadata": {
            "needs_background": "light"
          }
        }
      ]
    },
    {
      "cell_type": "markdown",
      "source": [
        "The model has the highest accuracy for K=4 while it has lowest accuracy for K=3. The aacuracy of the model remains constant for K=5 to K= 8 and then decreases to 0.2 for K=9. So we choose K=4."
      ],
      "metadata": {
        "id": "6sCiLDhDGtmt"
      }
    },
    {
      "cell_type": "code",
      "source": [],
      "metadata": {
        "id": "y7eFi_ibgb-v"
      },
      "execution_count": 8,
      "outputs": []
    }
  ]
}