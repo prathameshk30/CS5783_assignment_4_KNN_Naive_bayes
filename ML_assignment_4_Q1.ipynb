{
  "nbformat": 4,
  "nbformat_minor": 0,
  "metadata": {
    "colab": {
      "provenance": []
    },
    "kernelspec": {
      "name": "python3",
      "display_name": "Python 3"
    },
    "language_info": {
      "name": "python"
    }
  },
  "cells": [
    {
      "cell_type": "code",
      "execution_count": 1,
      "metadata": {
        "id": "sFUPK1_sxi4z"
      },
      "outputs": [],
      "source": [
        "import pandas as pd\n",
        "from sklearn.metrics import confusion_matrix,accuracy_score\n",
        "from sklearn.preprocessing import StandardScaler\n",
        "import matplotlib.pyplot as plt\n",
        "import seaborn as sns\n",
        "import numpy as np"
      ]
    },
    {
      "cell_type": "code",
      "source": [
        "data_train = pd.read_excel('/content/drive/MyDrive/Asssignment4_Data.xlsx',sheet_name='Train')\n",
        "data_test =  pd.read_excel('/content/drive/MyDrive/Asssignment4_Data.xlsx',sheet_name='Test')"
      ],
      "metadata": {
        "id": "vNZX9XYoyD24"
      },
      "execution_count": 2,
      "outputs": []
    },
    {
      "cell_type": "code",
      "source": [
        "X_train = data_train.drop(['House ID','Construction type'],axis =1)\n",
        "X_test = data_test.drop(['House ID','Construction type'],axis= 1)\n",
        "\n",
        "y_train = data_train['Construction type']\n",
        "y_test = data_test['Construction type']"
      ],
      "metadata": {
        "id": "X6oKExB8ygeG"
      },
      "execution_count": 3,
      "outputs": []
    },
    {
      "cell_type": "code",
      "source": [
        "class NaiveBayesClassifier():\n",
        "    def calc_prior(self, features, target):\n",
        "        self.prior = (features.groupby(target).apply(lambda x: len(x)) / self.rows).to_numpy()\n",
        "        return self.prior\n",
        "    \n",
        "    def calc_statistics(self, features, target):\n",
        "        self.mean = features.groupby(target).apply(np.mean).to_numpy()\n",
        "        self.var = features.groupby(target).apply(np.var).to_numpy()\n",
        "        return self.mean, self.var\n",
        "    \n",
        "    def gaussian_density(self, class_idx, x):     \n",
        "        mean = self.mean[class_idx]\n",
        "        var = self.var[class_idx]\n",
        "        numerator = np.exp((-1/2)*((x-mean)**2) / (2 * var))\n",
        "        denominator = np.sqrt(2 * np.pi * var)\n",
        "        prob = numerator / denominator\n",
        "        return prob\n",
        "    \n",
        "    def calc_posterior(self, x):\n",
        "        posteriors = []\n",
        "        for i in range(self.count):\n",
        "            prior = np.log(self.prior[i]) \n",
        "            conditional = np.sum(np.log(self.gaussian_density(i, x))) \n",
        "            posterior = prior + conditional\n",
        "            posteriors.append(posterior)\n",
        "        return self.classes[np.argmax(posteriors)]\n",
        "     \n",
        "\n",
        "    def fit(self, features, target):\n",
        "        self.classes = np.unique(target)\n",
        "        self.count = len(self.classes)\n",
        "        self.feature_nums = features.shape[1]\n",
        "        self.rows = features.shape[0]\n",
        "        \n",
        "        self.calc_statistics(features, target)\n",
        "        self.calc_prior(features, target)\n",
        "        \n",
        "    def predict(self, features):\n",
        "        preds = [self.calc_posterior(f) for f in features.to_numpy()]\n",
        "        return preds\n",
        "\n",
        "    def accuracy(self, y_test, y_pred):\n",
        "        accuracy = np.sum(y_test == y_pred) / len(y_test)\n",
        "        return accuracy"
      ],
      "metadata": {
        "id": "fyXd6-VM1ifX"
      },
      "execution_count": 4,
      "outputs": []
    },
    {
      "cell_type": "code",
      "source": [
        "model = NaiveBayesClassifier()\n",
        "model.fit(X_train, y_train)"
      ],
      "metadata": {
        "id": "PmMWJ4w2Gj1K"
      },
      "execution_count": 5,
      "outputs": []
    },
    {
      "cell_type": "code",
      "source": [
        "y_preds = model.predict(X_test)"
      ],
      "metadata": {
        "id": "N8gLg5EfUWoI"
      },
      "execution_count": 6,
      "outputs": []
    },
    {
      "cell_type": "code",
      "source": [
        "y_train"
      ],
      "metadata": {
        "colab": {
          "base_uri": "https://localhost:8080/"
        },
        "id": "3Vsz1XQRU4OT",
        "outputId": "fe37174c-761e-4f26-adaa-8872987d9ea2"
      },
      "execution_count": 7,
      "outputs": [
        {
          "output_type": "execute_result",
          "data": {
            "text/plain": [
              "0     Apartment\n",
              "1         House\n",
              "2         Condo\n",
              "3     Apartment\n",
              "4     Apartment\n",
              "5         Condo\n",
              "6         Condo\n",
              "7         House\n",
              "8         Condo\n",
              "9     Apartment\n",
              "10        House\n",
              "11        House\n",
              "12        House\n",
              "13        Condo\n",
              "14    Apartment\n",
              "15        House\n",
              "16    Apartment\n",
              "17        House\n",
              "18        Condo\n",
              "19    Apartment\n",
              "Name: Construction type, dtype: object"
            ]
          },
          "metadata": {},
          "execution_count": 7
        }
      ]
    },
    {
      "cell_type": "code",
      "source": [
        "model.accuracy(y_test, y_preds)"
      ],
      "metadata": {
        "colab": {
          "base_uri": "https://localhost:8080/"
        },
        "id": "AYoTDhVOU53c",
        "outputId": "e4ba9e88-4e46-4c29-dcb9-f860b392d05f"
      },
      "execution_count": 8,
      "outputs": [
        {
          "output_type": "execute_result",
          "data": {
            "text/plain": [
              "0.4"
            ]
          },
          "metadata": {},
          "execution_count": 8
        }
      ]
    },
    {
      "cell_type": "code",
      "source": [],
      "metadata": {
        "id": "hER434gpU-Ua"
      },
      "execution_count": null,
      "outputs": []
    }
  ]
}