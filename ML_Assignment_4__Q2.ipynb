{
  "nbformat": 4,
  "nbformat_minor": 0,
  "metadata": {
    "colab": {
      "provenance": []
    },
    "kernelspec": {
      "name": "python3",
      "display_name": "Python 3"
    },
    "language_info": {
      "name": "python"
    }
  },
  "cells": [
    {
      "cell_type": "markdown",
      "source": [
        "### Importing the dependency :-\n"
      ],
      "metadata": {
        "id": "0nkx4ZuAdB8s"
      }
    },
    {
      "cell_type": "code",
      "execution_count": 1,
      "metadata": {
        "id": "gXaYqBBbUwmO"
      },
      "outputs": [],
      "source": [
        "import pandas as pd\n",
        "from sklearn.metrics import confusion_matrix\n",
        "from sklearn.preprocessing import LabelEncoder\n",
        "from sklearn.tree import DecisionTreeClassifier\n",
        "import matplotlib.pyplot as plt\n",
        "import seaborn as sns\n",
        "import numpy as np\n",
        "from sklearn import metrics "
      ]
    },
    {
      "cell_type": "code",
      "source": [
        "train_df = pd.read_excel(\"/content/drive/MyDrive/Asssignment4_Data.xlsx\",sheet_name='Train')\n",
        "test_df =  pd.read_excel(\"/content/drive/MyDrive/Asssignment4_Data.xlsx\",sheet_name='Test')"
      ],
      "metadata": {
        "id": "ngdnXcE6WpuP"
      },
      "execution_count": 2,
      "outputs": []
    },
    {
      "cell_type": "code",
      "source": [
        "train_df.head(5)"
      ],
      "metadata": {
        "colab": {
          "base_uri": "https://localhost:8080/",
          "height": 206
        },
        "id": "TIBNYHAqWpw0",
        "outputId": "c4cd26f5-8ca5-409f-87ca-d39170eaae8a"
      },
      "execution_count": 3,
      "outputs": [
        {
          "output_type": "execute_result",
          "data": {
            "text/plain": [
              "   House ID  Local Price  Bathrooms  Land Area  Living area  # Garages  \\\n",
              "0         1       4.9176        1.0      3.472        0.998        1.0   \n",
              "1         2       5.0208        1.0      3.531        1.500        2.0   \n",
              "2         3       4.5429        1.0      2.275        1.175        1.0   \n",
              "3         4       4.5573        1.0      4.050        1.232        1.0   \n",
              "4         5       5.0597        1.0      4.455        1.121        1.0   \n",
              "\n",
              "   # Rooms  # Bedrooms  Age of home Construction type  \n",
              "0        7           4           42         Apartment  \n",
              "1        7           4           62             House  \n",
              "2        6           3           40             Condo  \n",
              "3        6           3           54         Apartment  \n",
              "4        6           3           42         Apartment  "
            ],
            "text/html": [
              "\n",
              "  <div id=\"df-387d18ee-e5a0-40bf-84a5-d244b8b24d49\">\n",
              "    <div class=\"colab-df-container\">\n",
              "      <div>\n",
              "<style scoped>\n",
              "    .dataframe tbody tr th:only-of-type {\n",
              "        vertical-align: middle;\n",
              "    }\n",
              "\n",
              "    .dataframe tbody tr th {\n",
              "        vertical-align: top;\n",
              "    }\n",
              "\n",
              "    .dataframe thead th {\n",
              "        text-align: right;\n",
              "    }\n",
              "</style>\n",
              "<table border=\"1\" class=\"dataframe\">\n",
              "  <thead>\n",
              "    <tr style=\"text-align: right;\">\n",
              "      <th></th>\n",
              "      <th>House ID</th>\n",
              "      <th>Local Price</th>\n",
              "      <th>Bathrooms</th>\n",
              "      <th>Land Area</th>\n",
              "      <th>Living area</th>\n",
              "      <th># Garages</th>\n",
              "      <th># Rooms</th>\n",
              "      <th># Bedrooms</th>\n",
              "      <th>Age of home</th>\n",
              "      <th>Construction type</th>\n",
              "    </tr>\n",
              "  </thead>\n",
              "  <tbody>\n",
              "    <tr>\n",
              "      <th>0</th>\n",
              "      <td>1</td>\n",
              "      <td>4.9176</td>\n",
              "      <td>1.0</td>\n",
              "      <td>3.472</td>\n",
              "      <td>0.998</td>\n",
              "      <td>1.0</td>\n",
              "      <td>7</td>\n",
              "      <td>4</td>\n",
              "      <td>42</td>\n",
              "      <td>Apartment</td>\n",
              "    </tr>\n",
              "    <tr>\n",
              "      <th>1</th>\n",
              "      <td>2</td>\n",
              "      <td>5.0208</td>\n",
              "      <td>1.0</td>\n",
              "      <td>3.531</td>\n",
              "      <td>1.500</td>\n",
              "      <td>2.0</td>\n",
              "      <td>7</td>\n",
              "      <td>4</td>\n",
              "      <td>62</td>\n",
              "      <td>House</td>\n",
              "    </tr>\n",
              "    <tr>\n",
              "      <th>2</th>\n",
              "      <td>3</td>\n",
              "      <td>4.5429</td>\n",
              "      <td>1.0</td>\n",
              "      <td>2.275</td>\n",
              "      <td>1.175</td>\n",
              "      <td>1.0</td>\n",
              "      <td>6</td>\n",
              "      <td>3</td>\n",
              "      <td>40</td>\n",
              "      <td>Condo</td>\n",
              "    </tr>\n",
              "    <tr>\n",
              "      <th>3</th>\n",
              "      <td>4</td>\n",
              "      <td>4.5573</td>\n",
              "      <td>1.0</td>\n",
              "      <td>4.050</td>\n",
              "      <td>1.232</td>\n",
              "      <td>1.0</td>\n",
              "      <td>6</td>\n",
              "      <td>3</td>\n",
              "      <td>54</td>\n",
              "      <td>Apartment</td>\n",
              "    </tr>\n",
              "    <tr>\n",
              "      <th>4</th>\n",
              "      <td>5</td>\n",
              "      <td>5.0597</td>\n",
              "      <td>1.0</td>\n",
              "      <td>4.455</td>\n",
              "      <td>1.121</td>\n",
              "      <td>1.0</td>\n",
              "      <td>6</td>\n",
              "      <td>3</td>\n",
              "      <td>42</td>\n",
              "      <td>Apartment</td>\n",
              "    </tr>\n",
              "  </tbody>\n",
              "</table>\n",
              "</div>\n",
              "      <button class=\"colab-df-convert\" onclick=\"convertToInteractive('df-387d18ee-e5a0-40bf-84a5-d244b8b24d49')\"\n",
              "              title=\"Convert this dataframe to an interactive table.\"\n",
              "              style=\"display:none;\">\n",
              "        \n",
              "  <svg xmlns=\"http://www.w3.org/2000/svg\" height=\"24px\"viewBox=\"0 0 24 24\"\n",
              "       width=\"24px\">\n",
              "    <path d=\"M0 0h24v24H0V0z\" fill=\"none\"/>\n",
              "    <path d=\"M18.56 5.44l.94 2.06.94-2.06 2.06-.94-2.06-.94-.94-2.06-.94 2.06-2.06.94zm-11 1L8.5 8.5l.94-2.06 2.06-.94-2.06-.94L8.5 2.5l-.94 2.06-2.06.94zm10 10l.94 2.06.94-2.06 2.06-.94-2.06-.94-.94-2.06-.94 2.06-2.06.94z\"/><path d=\"M17.41 7.96l-1.37-1.37c-.4-.4-.92-.59-1.43-.59-.52 0-1.04.2-1.43.59L10.3 9.45l-7.72 7.72c-.78.78-.78 2.05 0 2.83L4 21.41c.39.39.9.59 1.41.59.51 0 1.02-.2 1.41-.59l7.78-7.78 2.81-2.81c.8-.78.8-2.07 0-2.86zM5.41 20L4 18.59l7.72-7.72 1.47 1.35L5.41 20z\"/>\n",
              "  </svg>\n",
              "      </button>\n",
              "      \n",
              "  <style>\n",
              "    .colab-df-container {\n",
              "      display:flex;\n",
              "      flex-wrap:wrap;\n",
              "      gap: 12px;\n",
              "    }\n",
              "\n",
              "    .colab-df-convert {\n",
              "      background-color: #E8F0FE;\n",
              "      border: none;\n",
              "      border-radius: 50%;\n",
              "      cursor: pointer;\n",
              "      display: none;\n",
              "      fill: #1967D2;\n",
              "      height: 32px;\n",
              "      padding: 0 0 0 0;\n",
              "      width: 32px;\n",
              "    }\n",
              "\n",
              "    .colab-df-convert:hover {\n",
              "      background-color: #E2EBFA;\n",
              "      box-shadow: 0px 1px 2px rgba(60, 64, 67, 0.3), 0px 1px 3px 1px rgba(60, 64, 67, 0.15);\n",
              "      fill: #174EA6;\n",
              "    }\n",
              "\n",
              "    [theme=dark] .colab-df-convert {\n",
              "      background-color: #3B4455;\n",
              "      fill: #D2E3FC;\n",
              "    }\n",
              "\n",
              "    [theme=dark] .colab-df-convert:hover {\n",
              "      background-color: #434B5C;\n",
              "      box-shadow: 0px 1px 3px 1px rgba(0, 0, 0, 0.15);\n",
              "      filter: drop-shadow(0px 1px 2px rgba(0, 0, 0, 0.3));\n",
              "      fill: #FFFFFF;\n",
              "    }\n",
              "  </style>\n",
              "\n",
              "      <script>\n",
              "        const buttonEl =\n",
              "          document.querySelector('#df-387d18ee-e5a0-40bf-84a5-d244b8b24d49 button.colab-df-convert');\n",
              "        buttonEl.style.display =\n",
              "          google.colab.kernel.accessAllowed ? 'block' : 'none';\n",
              "\n",
              "        async function convertToInteractive(key) {\n",
              "          const element = document.querySelector('#df-387d18ee-e5a0-40bf-84a5-d244b8b24d49');\n",
              "          const dataTable =\n",
              "            await google.colab.kernel.invokeFunction('convertToInteractive',\n",
              "                                                     [key], {});\n",
              "          if (!dataTable) return;\n",
              "\n",
              "          const docLinkHtml = 'Like what you see? Visit the ' +\n",
              "            '<a target=\"_blank\" href=https://colab.research.google.com/notebooks/data_table.ipynb>data table notebook</a>'\n",
              "            + ' to learn more about interactive tables.';\n",
              "          element.innerHTML = '';\n",
              "          dataTable['output_type'] = 'display_data';\n",
              "          await google.colab.output.renderOutput(dataTable, element);\n",
              "          const docLink = document.createElement('div');\n",
              "          docLink.innerHTML = docLinkHtml;\n",
              "          element.appendChild(docLink);\n",
              "        }\n",
              "      </script>\n",
              "    </div>\n",
              "  </div>\n",
              "  "
            ]
          },
          "metadata": {},
          "execution_count": 3
        }
      ]
    },
    {
      "cell_type": "markdown",
      "source": [
        "### Splitting the Data into training & test."
      ],
      "metadata": {
        "id": "dYkEP598c-71"
      }
    },
    {
      "cell_type": "code",
      "source": [
        "X_train= train_df.drop(columns=['House ID','Construction type'], axis=1)\n",
        "X_test= test_df.drop(columns=['House ID','Construction type'], axis=1)\n",
        "\n",
        "y_train= train_df['Construction type']\n",
        "y_test= test_df['Construction type']"
      ],
      "metadata": {
        "id": "CJaKLc7xWpzC"
      },
      "execution_count": 4,
      "outputs": []
    },
    {
      "cell_type": "markdown",
      "source": [
        "### Design a decision tree"
      ],
      "metadata": {
        "id": "Eom5850BhgBh"
      }
    },
    {
      "cell_type": "code",
      "source": [
        "# Create Decision Tree classifer object\n",
        "clf = DecisionTreeClassifier(criterion = 'gini', random_state=1)\n",
        "\n",
        "# Train Decision Tree Classifer\n",
        "clf = clf.fit(X_train,y_train)"
      ],
      "metadata": {
        "id": "j4clXR9oWp1m"
      },
      "execution_count": 5,
      "outputs": []
    },
    {
      "cell_type": "markdown",
      "source": [
        "### Accuracy and Confusion Matrix on training data"
      ],
      "metadata": {
        "id": "ampl-Ru1lBR7"
      }
    },
    {
      "cell_type": "code",
      "source": [
        "print(\"Accuracy:\",metrics.accuracy_score(y_train, y_train))"
      ],
      "metadata": {
        "colab": {
          "base_uri": "https://localhost:8080/"
        },
        "id": "7_ne3XaHhmTz",
        "outputId": "161a0473-abc4-492f-efbb-d69433ac045c"
      },
      "execution_count": 6,
      "outputs": [
        {
          "output_type": "stream",
          "name": "stdout",
          "text": [
            "Accuracy: 1.0\n"
          ]
        }
      ]
    },
    {
      "cell_type": "code",
      "source": [
        "clf.classes_"
      ],
      "metadata": {
        "colab": {
          "base_uri": "https://localhost:8080/"
        },
        "id": "uzpd2QD7Wp8J",
        "outputId": "f2cf25c7-2671-4312-bdc5-afb5ea328743"
      },
      "execution_count": 8,
      "outputs": [
        {
          "output_type": "execute_result",
          "data": {
            "text/plain": [
              "array(['Apartment', 'Condo', 'House'], dtype=object)"
            ]
          },
          "metadata": {},
          "execution_count": 8
        }
      ]
    },
    {
      "cell_type": "markdown",
      "source": [
        "### Accuracy and Confusion Matrix on test data"
      ],
      "metadata": {
        "id": "tjw35Mg6nV49"
      }
    },
    {
      "cell_type": "code",
      "source": [
        "#Predict the response for test dataset\n",
        "y_pred = clf.predict(X_test)"
      ],
      "metadata": {
        "id": "_zolXc_6hmQ0"
      },
      "execution_count": 9,
      "outputs": []
    },
    {
      "cell_type": "code",
      "source": [
        "print(\"Accuracy:\",metrics.accuracy_score(y_test, y_pred))"
      ],
      "metadata": {
        "colab": {
          "base_uri": "https://localhost:8080/"
        },
        "id": "Ok8AgwjdWp_e",
        "outputId": "fc14c948-d9ca-437f-c96d-1df0dc85b1d4"
      },
      "execution_count": 10,
      "outputs": [
        {
          "output_type": "stream",
          "name": "stdout",
          "text": [
            "Accuracy: 0.4\n"
          ]
        }
      ]
    },
    {
      "cell_type": "markdown",
      "source": [
        "#### The above model has accuracy of 100 %  on the training Data while only 40% on the test data. Thus model is clealry overfitting."
      ],
      "metadata": {
        "id": "F3rZUCumH_6O"
      }
    },
    {
      "cell_type": "markdown",
      "source": [
        "### Hyperparameter Tuning (Restricting Depth, split criterion)"
      ],
      "metadata": {
        "id": "xhfUuJWEUaWj"
      }
    },
    {
      "cell_type": "code",
      "source": [
        "depth=[1,2,3,4,5,6,7,8,9,10]\n",
        "train_accuracy=[]\n",
        "test_accuracy=[]\n",
        "for i in depth:\n",
        "  clf=  DecisionTreeClassifier(random_state=1,max_depth=i)\n",
        "  clf.fit(X_train,y_train)\n",
        "  train_accuracy.append(clf.score(X_train,y_train))\n",
        "  test_accuracy.append(clf.score(X_test,y_test))"
      ],
      "metadata": {
        "id": "M_CwZ5UnlYjC"
      },
      "execution_count": 12,
      "outputs": []
    },
    {
      "cell_type": "code",
      "source": [
        "plt.plot(depth,train_accuracy,'b')\n",
        "plt.plot(depth,test_accuracy,'r')\n",
        "plt.title(\"Depth VS Accuracy\")\n",
        "plt.legend(['Train','Test'])\n",
        "# plt.ylim((0,3))\n",
        "plt.show()"
      ],
      "metadata": {
        "colab": {
          "base_uri": "https://localhost:8080/",
          "height": 281
        },
        "id": "na9tOmMRnCfu",
        "outputId": "78c7c83c-eeb9-4a96-d5a1-b181a180e4e6"
      },
      "execution_count": 13,
      "outputs": [
        {
          "output_type": "display_data",
          "data": {
            "text/plain": [
              "<Figure size 432x288 with 1 Axes>"
            ],
            "image/png": "[encoded data removed]"
          },
          "metadata": {
            "needs_background": "light"
          }
        }
      ]
    },
    {
      "cell_type": "markdown",
      "source": [
        "We can see that test accuracy reaches highest at max depth of 2 and then decreases slowly."
      ],
      "metadata": {
        "id": "30C6OlX1vOIb"
      }
    },
    {
      "cell_type": "code",
      "source": [
        "clf=DecisionTreeClassifier(criterion = 'gini', random_state=1,max_depth=2)\n",
        "clf.fit(X_train, y_train)"
      ],
      "metadata": {
        "colab": {
          "base_uri": "https://localhost:8080/"
        },
        "id": "rHzrZHxavens",
        "outputId": "26d07fbf-b303-403d-adfe-ed5c799ab25e"
      },
      "execution_count": 18,
      "outputs": [
        {
          "output_type": "execute_result",
          "data": {
            "text/plain": [
              "DecisionTreeClassifier(max_depth=2, random_state=1)"
            ]
          },
          "metadata": {},
          "execution_count": 18
        }
      ]
    },
    {
      "cell_type": "code",
      "source": [
        "y_pred = clf.predict(X_train)\n",
        "print(\"Accuracy:\",metrics.accuracy_score(y_pred, y_train))"
      ],
      "metadata": {
        "colab": {
          "base_uri": "https://localhost:8080/"
        },
        "id": "ba8TET0FnCjG",
        "outputId": "04a0eb7e-06c3-4d17-abf4-1a8a42cf2903"
      },
      "execution_count": 19,
      "outputs": [
        {
          "output_type": "stream",
          "name": "stdout",
          "text": [
            "Accuracy: 0.75\n"
          ]
        }
      ]
    },
    {
      "cell_type": "code",
      "source": [
        "y_pred = clf.predict(X_test)\n",
        "print(\"Accuracy:\",metrics.accuracy_score(y_pred, y_test))"
      ],
      "metadata": {
        "colab": {
          "base_uri": "https://localhost:8080/"
        },
        "id": "cS-h-xF2vdqr",
        "outputId": "a373a785-c1e2-45dd-bb26-2650754122e7"
      },
      "execution_count": 20,
      "outputs": [
        {
          "output_type": "stream",
          "name": "stdout",
          "text": [
            "Accuracy: 0.8\n"
          ]
        }
      ]
    },
    {
      "cell_type": "markdown",
      "source": [
        "As we control the tree's complexicity the variance will decrease and the bias will increase. So we control the depth."
      ],
      "metadata": {
        "id": "54ZoV-R8F6__"
      }
    },
    {
      "cell_type": "code",
      "source": [
        "from sklearn.tree import export_graphviz\n",
        "import graphviz\n",
        "dot_data = export_graphviz(clf, out_file=None,  feature_names=list(X_train.columns),\n",
        "                                filled=True)\n",
        "graphviz.Source(dot_data, format=\"png\")"
      ],
      "metadata": {
        "colab": {
          "base_uri": "https://localhost:8080/",
          "height": 380
        },
        "id": "tU2f_w45xPgX",
        "outputId": "9feebcec-fa54-4a95-ca49-42e9ad598602"
      },
      "execution_count": 21,
      "outputs": [
        {
          "output_type": "execute_result",
          "data": {
            "text/plain": [
              "<graphviz.files.Source at 0x7f9647b96fd0>"
            ],
            "image/svg+xml": "<?xml version=\"1.0\" encoding=\"UTF-8\" standalone=\"no\"?>\n<!DOCTYPE svg PUBLIC \"-//W3C//DTD SVG 1.1//EN\"\n \"http://www.w3.org/Graphics/SVG/1.1/DTD/svg11.dtd\">\n<!-- Generated by graphviz version 2.40.1 (20161225.0304)\n -->\n<!-- Title: Tree Pages: 1 -->\n<svg width=\"537pt\" height=\"269pt\"\n viewBox=\"0.00 0.00 537.00 269.00\" xmlns=\"http://www.w3.org/2000/svg\" xmlns:xlink=\"http://www.w3.org/1999/xlink\">\n<g id=\"graph0\" class=\"graph\" transform=\"scale(1 1) rotate(0) translate(4 265)\">\n<title>Tree</title>\n<polygon fill=\"#ffffff\" stroke=\"transparent\" points=\"-4,4 -4,-265 533,-265 533,4 -4,4\"/>\n<!-- 0 -->\n<g id=\"node1\" class=\"node\">\n<title>0</title>\n<polygon fill=\"#ffffff\" stroke=\"#000000\" points=\"339.5,-261 187.5,-261 187.5,-193 339.5,-193 339.5,-261\"/>\n<text text-anchor=\"middle\" x=\"263.5\" y=\"-245.8\" font-family=\"Helvetica,sans-Serif\" font-size=\"14.00\" fill=\"#000000\">Age of home &lt;= 36.0</text>\n<text text-anchor=\"middle\" x=\"263.5\" y=\"-230.8\" font-family=\"Helvetica,sans-Serif\" font-size=\"14.00\" fill=\"#000000\">gini = 0.665</text>\n<text text-anchor=\"middle\" x=\"263.5\" y=\"-215.8\" font-family=\"Helvetica,sans-Serif\" font-size=\"14.00\" fill=\"#000000\">samples = 20</text>\n<text text-anchor=\"middle\" x=\"263.5\" y=\"-200.8\" font-family=\"Helvetica,sans-Serif\" font-size=\"14.00\" fill=\"#000000\">value = [7, 6, 7]</text>\n</g>\n<!-- 1 -->\n<g id=\"node2\" class=\"node\">\n<title>1</title>\n<polygon fill=\"#c09cf2\" stroke=\"#000000\" points=\"257,-157 108,-157 108,-89 257,-89 257,-157\"/>\n<text text-anchor=\"middle\" x=\"182.5\" y=\"-141.8\" font-family=\"Helvetica,sans-Serif\" font-size=\"14.00\" fill=\"#000000\">Local Price &lt;= 8.411</text>\n<text text-anchor=\"middle\" x=\"182.5\" y=\"-126.8\" font-family=\"Helvetica,sans-Serif\" font-size=\"14.00\" fill=\"#000000\">gini = 0.56</text>\n<text text-anchor=\"middle\" x=\"182.5\" y=\"-111.8\" font-family=\"Helvetica,sans-Serif\" font-size=\"14.00\" fill=\"#000000\">samples = 10</text>\n<text text-anchor=\"middle\" x=\"182.5\" y=\"-96.8\" font-family=\"Helvetica,sans-Serif\" font-size=\"14.00\" fill=\"#000000\">value = [2, 2, 6]</text>\n</g>\n<!-- 0&#45;&gt;1 -->\n<g id=\"edge1\" class=\"edge\">\n<title>0&#45;&gt;1</title>\n<path fill=\"none\" stroke=\"#000000\" d=\"M236.9776,-192.9465C230.0546,-184.0578 222.5106,-174.3716 215.304,-165.1188\"/>\n<polygon fill=\"#000000\" stroke=\"#000000\" points=\"217.988,-162.8688 209.082,-157.13 212.4654,-167.1701 217.988,-162.8688\"/>\n<text text-anchor=\"middle\" x=\"205.9977\" y=\"-178.239\" font-family=\"Helvetica,sans-Serif\" font-size=\"14.00\" fill=\"#000000\">True</text>\n</g>\n<!-- 4 -->\n<g id=\"node5\" class=\"node\">\n<title>4</title>\n<polygon fill=\"#fbeade\" stroke=\"#000000\" points=\"416,-157 275,-157 275,-89 416,-89 416,-157\"/>\n<text text-anchor=\"middle\" x=\"345.5\" y=\"-141.8\" font-family=\"Helvetica,sans-Serif\" font-size=\"14.00\" fill=\"#000000\">Local Price &lt;= 4.55</text>\n<text text-anchor=\"middle\" x=\"345.5\" y=\"-126.8\" font-family=\"Helvetica,sans-Serif\" font-size=\"14.00\" fill=\"#000000\">gini = 0.58</text>\n<text text-anchor=\"middle\" x=\"345.5\" y=\"-111.8\" font-family=\"Helvetica,sans-Serif\" font-size=\"14.00\" fill=\"#000000\">samples = 10</text>\n<text text-anchor=\"middle\" x=\"345.5\" y=\"-96.8\" font-family=\"Helvetica,sans-Serif\" font-size=\"14.00\" fill=\"#000000\">value = [5, 4, 1]</text>\n</g>\n<!-- 0&#45;&gt;4 -->\n<g id=\"edge4\" class=\"edge\">\n<title>0&#45;&gt;4</title>\n<path fill=\"none\" stroke=\"#000000\" d=\"M290.3499,-192.9465C297.3583,-184.0578 304.9955,-174.3716 312.291,-165.1188\"/>\n<polygon fill=\"#000000\" stroke=\"#000000\" points=\"315.1467,-167.1498 318.5898,-157.13 309.6498,-162.8157 315.1467,-167.1498\"/>\n<text text-anchor=\"middle\" x=\"321.5263\" y=\"-178.2569\" font-family=\"Helvetica,sans-Serif\" font-size=\"14.00\" fill=\"#000000\">False</text>\n</g>\n<!-- 2 -->\n<g id=\"node3\" class=\"node\">\n<title>2</title>\n<polygon fill=\"#ab7bee\" stroke=\"#000000\" points=\"115,-53 0,-53 0,0 115,0 115,-53\"/>\n<text text-anchor=\"middle\" x=\"57.5\" y=\"-37.8\" font-family=\"Helvetica,sans-Serif\" font-size=\"14.00\" fill=\"#000000\">gini = 0.375</text>\n<text text-anchor=\"middle\" x=\"57.5\" y=\"-22.8\" font-family=\"Helvetica,sans-Serif\" font-size=\"14.00\" fill=\"#000000\">samples = 8</text>\n<text text-anchor=\"middle\" x=\"57.5\" y=\"-7.8\" font-family=\"Helvetica,sans-Serif\" font-size=\"14.00\" fill=\"#000000\">value = [0, 2, 6]</text>\n</g>\n<!-- 1&#45;&gt;2 -->\n<g id=\"edge2\" class=\"edge\">\n<title>1&#45;&gt;2</title>\n<path fill=\"none\" stroke=\"#000000\" d=\"M138.4297,-88.9777C125.9752,-79.3629 112.4485,-68.9203 100.0833,-59.3743\"/>\n<polygon fill=\"#000000\" stroke=\"#000000\" points=\"102.2028,-56.5889 92.1483,-53.2485 97.9251,-62.1299 102.2028,-56.5889\"/>\n</g>\n<!-- 3 -->\n<g id=\"node4\" class=\"node\">\n<title>3</title>\n<polygon fill=\"#e58139\" stroke=\"#000000\" points=\"248,-53 133,-53 133,0 248,0 248,-53\"/>\n<text text-anchor=\"middle\" x=\"190.5\" y=\"-37.8\" font-family=\"Helvetica,sans-Serif\" font-size=\"14.00\" fill=\"#000000\">gini = 0.0</text>\n<text text-anchor=\"middle\" x=\"190.5\" y=\"-22.8\" font-family=\"Helvetica,sans-Serif\" font-size=\"14.00\" fill=\"#000000\">samples = 2</text>\n<text text-anchor=\"middle\" x=\"190.5\" y=\"-7.8\" font-family=\"Helvetica,sans-Serif\" font-size=\"14.00\" fill=\"#000000\">value = [2, 0, 0]</text>\n</g>\n<!-- 1&#45;&gt;3 -->\n<g id=\"edge3\" class=\"edge\">\n<title>1&#45;&gt;3</title>\n<path fill=\"none\" stroke=\"#000000\" d=\"M185.3205,-88.9777C186.0113,-80.6449 186.7537,-71.6903 187.4545,-63.2364\"/>\n<polygon fill=\"#000000\" stroke=\"#000000\" points=\"190.9443,-63.5035 188.2825,-53.2485 183.9682,-62.9251 190.9443,-63.5035\"/>\n</g>\n<!-- 5 -->\n<g id=\"node6\" class=\"node\">\n<title>5</title>\n<polygon fill=\"#39e581\" stroke=\"#000000\" points=\"396,-53 281,-53 281,0 396,0 396,-53\"/>\n<text text-anchor=\"middle\" x=\"338.5\" y=\"-37.8\" font-family=\"Helvetica,sans-Serif\" font-size=\"14.00\" fill=\"#000000\">gini = 0.0</text>\n<text text-anchor=\"middle\" x=\"338.5\" y=\"-22.8\" font-family=\"Helvetica,sans-Serif\" font-size=\"14.00\" fill=\"#000000\">samples = 2</text>\n<text text-anchor=\"middle\" x=\"338.5\" y=\"-7.8\" font-family=\"Helvetica,sans-Serif\" font-size=\"14.00\" fill=\"#000000\">value = [0, 2, 0]</text>\n</g>\n<!-- 4&#45;&gt;5 -->\n<g id=\"edge5\" class=\"edge\">\n<title>4&#45;&gt;5</title>\n<path fill=\"none\" stroke=\"#000000\" d=\"M343.0321,-88.9777C342.4276,-80.6449 341.778,-71.6903 341.1648,-63.2364\"/>\n<polygon fill=\"#000000\" stroke=\"#000000\" points=\"344.6547,-62.969 340.4403,-53.2485 337.6731,-63.4755 344.6547,-62.969\"/>\n</g>\n<!-- 6 -->\n<g id=\"node7\" class=\"node\">\n<title>6</title>\n<polygon fill=\"#f2c09c\" stroke=\"#000000\" points=\"529,-53 414,-53 414,0 529,0 529,-53\"/>\n<text text-anchor=\"middle\" x=\"471.5\" y=\"-37.8\" font-family=\"Helvetica,sans-Serif\" font-size=\"14.00\" fill=\"#000000\">gini = 0.531</text>\n<text text-anchor=\"middle\" x=\"471.5\" y=\"-22.8\" font-family=\"Helvetica,sans-Serif\" font-size=\"14.00\" fill=\"#000000\">samples = 8</text>\n<text text-anchor=\"middle\" x=\"471.5\" y=\"-7.8\" font-family=\"Helvetica,sans-Serif\" font-size=\"14.00\" fill=\"#000000\">value = [5, 2, 1]</text>\n</g>\n<!-- 4&#45;&gt;6 -->\n<g id=\"edge6\" class=\"edge\">\n<title>4&#45;&gt;6</title>\n<path fill=\"none\" stroke=\"#000000\" d=\"M389.9229,-88.9777C402.477,-79.3629 416.1119,-68.9203 428.576,-59.3743\"/>\n<polygon fill=\"#000000\" stroke=\"#000000\" points=\"430.7635,-62.1076 436.5745,-53.2485 426.5073,-56.5502 430.7635,-62.1076\"/>\n</g>\n</g>\n</svg>\n"
          },
          "metadata": {},
          "execution_count": 21
        }
      ]
    },
    {
      "cell_type": "code",
      "source": [],
      "metadata": {
        "id": "yGhlto_pwATS"
      },
      "execution_count": null,
      "outputs": []
    }
  ]
}